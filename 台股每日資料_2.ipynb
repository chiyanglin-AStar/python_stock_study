{
  "nbformat": 4,
  "nbformat_minor": 0,
  "metadata": {
    "colab": {
      "provenance": [],
      "authorship_tag": "ABX9TyPMtzIMnIR//9ifObmlyvTW",
      "include_colab_link": true
    },
    "kernelspec": {
      "name": "python3",
      "display_name": "Python 3"
    },
    "language_info": {
      "name": "python"
    }
  },
  "cells": [
    {
      "cell_type": "markdown",
      "metadata": {
        "id": "view-in-github",
        "colab_type": "text"
      },
      "source": [
        "<a href=\"https://colab.research.google.com/github/chiyanglin-AStar/python_stock_study/blob/main/%E5%8F%B0%E8%82%A1%E6%AF%8F%E6%97%A5%E8%B3%87%E6%96%99_2.ipynb\" target=\"_parent\"><img src=\"https://colab.research.google.com/assets/colab-badge.svg\" alt=\"Open In Colab\"/></a>"
      ]
    },
    {
      "cell_type": "markdown",
      "source": [
        "# 特定台股每日資料 \n",
        "### ref : https://chenchenhouse.com/python/"
      ],
      "metadata": {
        "id": "mKtzTDjpBOe5"
      }
    },
    {
      "cell_type": "code",
      "source": [
        "import requests\n",
        "import pandas as pd\n",
        "from io import StringIO\n",
        "import datetime\n",
        "import os"
      ],
      "metadata": {
        "id": "FvShh2iDDxLr"
      },
      "execution_count": 1,
      "outputs": []
    },
    {
      "cell_type": "code",
      "source": [
        "url = \"https://isin.twse.com.tw/isin/class_main.jsp?owncode=&stockname=&isincode=&market=1&issuetype=1&industry_code=&Page=1&chklike=Y\"\n",
        "response = requests.get(url)\n",
        "listed = pd.read_html(response.text)[0]\n",
        "listed.columns = listed.iloc[0,:]\n",
        "listed = listed[[\"有價證券代號\",\"有價證券名稱\",\"市場別\",\"產業別\",\"公開發行/上市(櫃)/發行日\"]]\n",
        "listed = listed.iloc[1:]\n",
        "listed"
      ],
      "metadata": {
        "id": "-KxInsuCD8Rw",
        "outputId": "88da7644-c3ac-4c93-e923-12b37d5bf373",
        "colab": {
          "base_uri": "https://localhost:8080/",
          "height": 423
        }
      },
      "execution_count": 2,
      "outputs": [
        {
          "output_type": "execute_result",
          "data": {
            "text/plain": [
              "0   有價證券代號 有價證券名稱 市場別    產業別 公開發行/上市(櫃)/發行日\n",
              "1     1101     台泥  上市   水泥工業     1962/02/09\n",
              "2     1102     亞泥  上市   水泥工業     1962/06/08\n",
              "3     1103     嘉泥  上市   水泥工業     1969/11/14\n",
              "4     1104     環泥  上市   水泥工業     1971/02/01\n",
              "5     1108     幸福  上市   水泥工業     1990/06/06\n",
              "..     ...    ...  ..    ...            ...\n",
              "971   9944     新麗  上市    其他業     2002/08/26\n",
              "972   9945    潤泰新  上市    其他業     1992/04/30\n",
              "973   9946   三發地產  上市  建材營造業     2013/09/17\n",
              "974   9955     佳龍  上市    其他業     2008/01/21\n",
              "975   9958    世紀鋼  上市   鋼鐵工業     2008/03/12\n",
              "\n",
              "[975 rows x 5 columns]"
            ],
            "text/html": [
              "\n",
              "  <div id=\"df-ae8726ed-eed1-469a-963c-248fc6c05df8\">\n",
              "    <div class=\"colab-df-container\">\n",
              "      <div>\n",
              "<style scoped>\n",
              "    .dataframe tbody tr th:only-of-type {\n",
              "        vertical-align: middle;\n",
              "    }\n",
              "\n",
              "    .dataframe tbody tr th {\n",
              "        vertical-align: top;\n",
              "    }\n",
              "\n",
              "    .dataframe thead th {\n",
              "        text-align: right;\n",
              "    }\n",
              "</style>\n",
              "<table border=\"1\" class=\"dataframe\">\n",
              "  <thead>\n",
              "    <tr style=\"text-align: right;\">\n",
              "      <th></th>\n",
              "      <th>有價證券代號</th>\n",
              "      <th>有價證券名稱</th>\n",
              "      <th>市場別</th>\n",
              "      <th>產業別</th>\n",
              "      <th>公開發行/上市(櫃)/發行日</th>\n",
              "    </tr>\n",
              "  </thead>\n",
              "  <tbody>\n",
              "    <tr>\n",
              "      <th>1</th>\n",
              "      <td>1101</td>\n",
              "      <td>台泥</td>\n",
              "      <td>上市</td>\n",
              "      <td>水泥工業</td>\n",
              "      <td>1962/02/09</td>\n",
              "    </tr>\n",
              "    <tr>\n",
              "      <th>2</th>\n",
              "      <td>1102</td>\n",
              "      <td>亞泥</td>\n",
              "      <td>上市</td>\n",
              "      <td>水泥工業</td>\n",
              "      <td>1962/06/08</td>\n",
              "    </tr>\n",
              "    <tr>\n",
              "      <th>3</th>\n",
              "      <td>1103</td>\n",
              "      <td>嘉泥</td>\n",
              "      <td>上市</td>\n",
              "      <td>水泥工業</td>\n",
              "      <td>1969/11/14</td>\n",
              "    </tr>\n",
              "    <tr>\n",
              "      <th>4</th>\n",
              "      <td>1104</td>\n",
              "      <td>環泥</td>\n",
              "      <td>上市</td>\n",
              "      <td>水泥工業</td>\n",
              "      <td>1971/02/01</td>\n",
              "    </tr>\n",
              "    <tr>\n",
              "      <th>5</th>\n",
              "      <td>1108</td>\n",
              "      <td>幸福</td>\n",
              "      <td>上市</td>\n",
              "      <td>水泥工業</td>\n",
              "      <td>1990/06/06</td>\n",
              "    </tr>\n",
              "    <tr>\n",
              "      <th>...</th>\n",
              "      <td>...</td>\n",
              "      <td>...</td>\n",
              "      <td>...</td>\n",
              "      <td>...</td>\n",
              "      <td>...</td>\n",
              "    </tr>\n",
              "    <tr>\n",
              "      <th>971</th>\n",
              "      <td>9944</td>\n",
              "      <td>新麗</td>\n",
              "      <td>上市</td>\n",
              "      <td>其他業</td>\n",
              "      <td>2002/08/26</td>\n",
              "    </tr>\n",
              "    <tr>\n",
              "      <th>972</th>\n",
              "      <td>9945</td>\n",
              "      <td>潤泰新</td>\n",
              "      <td>上市</td>\n",
              "      <td>其他業</td>\n",
              "      <td>1992/04/30</td>\n",
              "    </tr>\n",
              "    <tr>\n",
              "      <th>973</th>\n",
              "      <td>9946</td>\n",
              "      <td>三發地產</td>\n",
              "      <td>上市</td>\n",
              "      <td>建材營造業</td>\n",
              "      <td>2013/09/17</td>\n",
              "    </tr>\n",
              "    <tr>\n",
              "      <th>974</th>\n",
              "      <td>9955</td>\n",
              "      <td>佳龍</td>\n",
              "      <td>上市</td>\n",
              "      <td>其他業</td>\n",
              "      <td>2008/01/21</td>\n",
              "    </tr>\n",
              "    <tr>\n",
              "      <th>975</th>\n",
              "      <td>9958</td>\n",
              "      <td>世紀鋼</td>\n",
              "      <td>上市</td>\n",
              "      <td>鋼鐵工業</td>\n",
              "      <td>2008/03/12</td>\n",
              "    </tr>\n",
              "  </tbody>\n",
              "</table>\n",
              "<p>975 rows × 5 columns</p>\n",
              "</div>\n",
              "      <button class=\"colab-df-convert\" onclick=\"convertToInteractive('df-ae8726ed-eed1-469a-963c-248fc6c05df8')\"\n",
              "              title=\"Convert this dataframe to an interactive table.\"\n",
              "              style=\"display:none;\">\n",
              "        \n",
              "  <svg xmlns=\"http://www.w3.org/2000/svg\" height=\"24px\"viewBox=\"0 0 24 24\"\n",
              "       width=\"24px\">\n",
              "    <path d=\"M0 0h24v24H0V0z\" fill=\"none\"/>\n",
              "    <path d=\"M18.56 5.44l.94 2.06.94-2.06 2.06-.94-2.06-.94-.94-2.06-.94 2.06-2.06.94zm-11 1L8.5 8.5l.94-2.06 2.06-.94-2.06-.94L8.5 2.5l-.94 2.06-2.06.94zm10 10l.94 2.06.94-2.06 2.06-.94-2.06-.94-.94-2.06-.94 2.06-2.06.94z\"/><path d=\"M17.41 7.96l-1.37-1.37c-.4-.4-.92-.59-1.43-.59-.52 0-1.04.2-1.43.59L10.3 9.45l-7.72 7.72c-.78.78-.78 2.05 0 2.83L4 21.41c.39.39.9.59 1.41.59.51 0 1.02-.2 1.41-.59l7.78-7.78 2.81-2.81c.8-.78.8-2.07 0-2.86zM5.41 20L4 18.59l7.72-7.72 1.47 1.35L5.41 20z\"/>\n",
              "  </svg>\n",
              "      </button>\n",
              "      \n",
              "  <style>\n",
              "    .colab-df-container {\n",
              "      display:flex;\n",
              "      flex-wrap:wrap;\n",
              "      gap: 12px;\n",
              "    }\n",
              "\n",
              "    .colab-df-convert {\n",
              "      background-color: #E8F0FE;\n",
              "      border: none;\n",
              "      border-radius: 50%;\n",
              "      cursor: pointer;\n",
              "      display: none;\n",
              "      fill: #1967D2;\n",
              "      height: 32px;\n",
              "      padding: 0 0 0 0;\n",
              "      width: 32px;\n",
              "    }\n",
              "\n",
              "    .colab-df-convert:hover {\n",
              "      background-color: #E2EBFA;\n",
              "      box-shadow: 0px 1px 2px rgba(60, 64, 67, 0.3), 0px 1px 3px 1px rgba(60, 64, 67, 0.15);\n",
              "      fill: #174EA6;\n",
              "    }\n",
              "\n",
              "    [theme=dark] .colab-df-convert {\n",
              "      background-color: #3B4455;\n",
              "      fill: #D2E3FC;\n",
              "    }\n",
              "\n",
              "    [theme=dark] .colab-df-convert:hover {\n",
              "      background-color: #434B5C;\n",
              "      box-shadow: 0px 1px 3px 1px rgba(0, 0, 0, 0.15);\n",
              "      filter: drop-shadow(0px 1px 2px rgba(0, 0, 0, 0.3));\n",
              "      fill: #FFFFFF;\n",
              "    }\n",
              "  </style>\n",
              "\n",
              "      <script>\n",
              "        const buttonEl =\n",
              "          document.querySelector('#df-ae8726ed-eed1-469a-963c-248fc6c05df8 button.colab-df-convert');\n",
              "        buttonEl.style.display =\n",
              "          google.colab.kernel.accessAllowed ? 'block' : 'none';\n",
              "\n",
              "        async function convertToInteractive(key) {\n",
              "          const element = document.querySelector('#df-ae8726ed-eed1-469a-963c-248fc6c05df8');\n",
              "          const dataTable =\n",
              "            await google.colab.kernel.invokeFunction('convertToInteractive',\n",
              "                                                     [key], {});\n",
              "          if (!dataTable) return;\n",
              "\n",
              "          const docLinkHtml = 'Like what you see? Visit the ' +\n",
              "            '<a target=\"_blank\" href=https://colab.research.google.com/notebooks/data_table.ipynb>data table notebook</a>'\n",
              "            + ' to learn more about interactive tables.';\n",
              "          element.innerHTML = '';\n",
              "          dataTable['output_type'] = 'display_data';\n",
              "          await google.colab.output.renderOutput(dataTable, element);\n",
              "          const docLink = document.createElement('div');\n",
              "          docLink.innerHTML = docLinkHtml;\n",
              "          element.appendChild(docLink);\n",
              "        }\n",
              "      </script>\n",
              "    </div>\n",
              "  </div>\n",
              "  "
            ]
          },
          "metadata": {},
          "execution_count": 2
        }
      ]
    },
    {
      "cell_type": "code",
      "source": [
        "stock_1 = listed[\"有價證券代號\"]\n",
        "stock_num = stock_1.apply(lambda x: str(x) + \".TW\")\n",
        "stock_num"
      ],
      "metadata": {
        "id": "nZGw6EBhFUMB",
        "outputId": "b466e8aa-74c2-475a-a65d-febfc2af8044",
        "colab": {
          "base_uri": "https://localhost:8080/"
        }
      },
      "execution_count": 3,
      "outputs": [
        {
          "output_type": "execute_result",
          "data": {
            "text/plain": [
              "1      1101.TW\n",
              "2      1102.TW\n",
              "3      1103.TW\n",
              "4      1104.TW\n",
              "5      1108.TW\n",
              "        ...   \n",
              "971    9944.TW\n",
              "972    9945.TW\n",
              "973    9946.TW\n",
              "974    9955.TW\n",
              "975    9958.TW\n",
              "Name: 有價證券代號, Length: 975, dtype: object"
            ]
          },
          "metadata": {},
          "execution_count": 3
        }
      ]
    },
    {
      "cell_type": "code",
      "source": [
        "##讀寫成csv檔\n",
        "def stock_data(stock_id,time_start,time_end) :\n",
        "    days = 24 * 60 * 60    #一天有86400秒 \n",
        "    initial = datetime.datetime.strptime( '1970-01-01' , '%Y-%m-%d' )\n",
        "    start = datetime.datetime.strptime( time_start , '%Y-%m-%d' )\n",
        "    end = datetime.datetime.strptime( time_end, '%Y-%m-%d' )\n",
        "    period1 = start - initial\n",
        "    period2 = end - initial\n",
        "    s1 = period1.days * days\n",
        "    s2 = period2.days * days\n",
        "    url = \"https://query1.finance.yahoo.com/v7/finance/download/\" + stock_id + \"?period1=\" + str(s1) + \"&period2=\" + str(s2) + \"&interval=1d&events=history&includeAdjustedClose=true\"\n",
        "    headers = {\n",
        "        \"user-agent\": \"Mozilla/5.0 (Windows NT 10.0; Win64; x64) AppleWebKit/537.36 (KHTML, like Gecko) Chrome/98.0.4758.102 Safari/537.36\"\n",
        "}\n",
        "    response = requests.get(url,headers = headers)\n",
        "    df = pd.read_csv(StringIO(response.text),index_col = \"Date\",parse_dates = [\"Date\"])\n",
        "    address = r\"C:\\Users\\adsad\\OneDrive\\Desktop\\stock\\\\\" + stock_id + \".csv\"\n",
        "    if  os.path.isfile(address):\n",
        "        df_new = pd.read_csv(address,index_col = \"Date\",parse_dates = [\"Date\"])\n",
        "        if time_start not in df_new.index:\n",
        "            df_new = df_new.append(df)\n",
        "            df_new.to_csv(address,encoding='utf-8')\n",
        "            print(\"已更新到最新資料\")\n",
        "        else:\n",
        "            print(\"已是最新資料，無需更新\")\n",
        "    else:\n",
        "        df.to_csv(address,encoding='utf-8')\n",
        "        print(\"此為新資料，已創建csv檔\")"
      ],
      "metadata": {
        "id": "LAoZmtGmFYhI"
      },
      "execution_count": 4,
      "outputs": []
    },
    {
      "cell_type": "code",
      "source": [
        "time_start = \"2000-01-01\"\n",
        "time_end = \"2020-12-23\"\n",
        "for i in stock_num :   \n",
        "    try:\n",
        "        stock_data(i, time_start,time_end)\n",
        "        print(i + \"successful\")\n",
        "    except:\n",
        "        print(i + \"fail\")"
      ],
      "metadata": {
        "id": "YNXj4iDEFq1B"
      },
      "execution_count": null,
      "outputs": []
    },
    {
      "cell_type": "code",
      "source": [
        "today=datetime.date.today()\n",
        "tomorrow = today + datetime.timedelta(days=1)\n",
        "time_start = str(today)\n",
        "time_end = str(tomorrow)\n",
        "for i in stock_num :   \n",
        "    try:\n",
        "        stock_data(i, time_start,time_end)\n",
        "        print(i + \"successful\")\n",
        "    except:\n",
        "        print(i + \"fail\")"
      ],
      "metadata": {
        "id": "37nCOFSoF_LA"
      },
      "execution_count": null,
      "outputs": []
    }
  ]
}