{
  "nbformat": 4,
  "nbformat_minor": 0,
  "metadata": {
    "colab": {
      "provenance": [],
      "authorship_tag": "ABX9TyMaCncs/GN0gAeD9BE0wx1M",
      "include_colab_link": true
    },
    "kernelspec": {
      "name": "python3",
      "display_name": "Python 3"
    },
    "language_info": {
      "name": "python"
    }
  },
  "cells": [
    {
      "cell_type": "markdown",
      "metadata": {
        "id": "view-in-github",
        "colab_type": "text"
      },
      "source": [
        "<a href=\"https://colab.research.google.com/github/chiyanglin-AStar/python_stock_study/blob/main/%E5%8F%B0%E8%82%A1%E6%AF%8F%E6%97%A5%E8%B3%87%E6%96%99.ipynb\" target=\"_parent\"><img src=\"https://colab.research.google.com/assets/colab-badge.svg\" alt=\"Open In Colab\"/></a>"
      ]
    },
    {
      "cell_type": "markdown",
      "source": [],
      "metadata": {
        "id": "mKtzTDjpBOe5"
      }
    },
    {
      "cell_type": "code",
      "execution_count": 3,
      "metadata": {
        "colab": {
          "base_uri": "https://localhost:8080/"
        },
        "id": "WNAFGpZSBMsN",
        "outputId": "6dd05512-0bc6-44df-bcc9-9a7f7a484d08"
      },
      "outputs": [
        {
          "output_type": "stream",
          "name": "stdout",
          "text": [
            "              shares       amount   open   high    low  close  change  \\\n",
            "2023-04-06  26706549  14130223516  530.0  531.0  526.0  530.0    -3.0   \n",
            "2023-04-07  11114272   5903807797  535.0  535.0  529.0  531.0     1.0   \n",
            "2023-04-10   8203168   4350907176  533.0  533.0  528.0  529.0    -2.0   \n",
            "2023-04-11  23087326  12101146147  522.0  527.0  522.0  524.0    -5.0   \n",
            "2023-04-12  24772925  12870788209  523.0  524.0  517.0  520.0    -4.0   \n",
            "2023-04-13  27501436  14121978133  515.0  517.0  510.0  510.0   -10.0   \n",
            "2023-04-14  21174653  10936462759  516.0  520.0  513.0  516.0     6.0   \n",
            "2023-04-17  17895837   9264789087  519.0  520.0  514.0  520.0     4.0   \n",
            "2023-04-18  15687059   8097905529  518.0  520.0  514.0  515.0    -5.0   \n",
            "2023-04-19  23209923  11881404238  517.0  518.0  509.0  510.0    -5.0   \n",
            "2023-04-20  21002685  10780268259  512.0  516.0  510.0  513.0     3.0   \n",
            "2023-04-21  25440179  13103618008  520.0  520.0  510.0  511.0    -2.0   \n",
            "2023-04-24  17579661   8903570323  505.0  510.0  504.0  507.0    -4.0   \n",
            "2023-04-25  40916105  20495640143  504.0  505.0  498.0  498.0    -9.0   \n",
            "2023-04-26  33174539  16353670134  498.0  498.5  491.0  491.5    -6.5   \n",
            "2023-04-27  34149043  16816693302  491.0  495.0  489.0  493.5     2.0   \n",
            "2023-04-28  38812949  19433015577  498.5  502.0  498.0  502.0     8.5   \n",
            "\n",
            "            turnover stockno  month  \n",
            "2023-04-06     19144    2330      4  \n",
            "2023-04-07     10285    2330      4  \n",
            "2023-04-10     11698    2330      4  \n",
            "2023-04-11     24432    2330      4  \n",
            "2023-04-12     37158    2330      4  \n",
            "2023-04-13     64834    2330      4  \n",
            "2023-04-14     19962    2330      4  \n",
            "2023-04-17     17444    2330      4  \n",
            "2023-04-18     17087    2330      4  \n",
            "2023-04-19     43281    2330      4  \n",
            "2023-04-20     16627    2330      4  \n",
            "2023-04-21     22738    2330      4  \n",
            "2023-04-24     31635    2330      4  \n",
            "2023-04-25     92009    2330      4  \n",
            "2023-04-26     58580    2330      4  \n",
            "2023-04-27     47699    2330      4  \n",
            "2023-04-28     23746    2330      4  \n",
            "month\n",
            "4    17\n",
            "Name: close, dtype: int64\n",
            "month\n",
            "4    410428309\n",
            "Name: shares, dtype: int64\n"
          ]
        }
      ],
      "source": [
        "import numpy as np\n",
        "import requests\n",
        "import pandas as pd\n",
        "import datetime\n",
        "\n",
        "#   http://www.twse.com.tw/exchangeReport/STOCK_DAY?date=20180817&stockNo=2330  取一個月的股價與成交量\n",
        "def get_stock_history(date, stock_no):\n",
        "    quotes = []\n",
        "    url = 'http://www.twse.com.tw/exchangeReport/STOCK_DAY?date=%s&stockNo=%s' % ( date, stock_no)\n",
        "    r = requests.get(url)\n",
        "    data = r.json()\n",
        "    return transform(data['data'])  #進行資料格式轉換\n",
        "\n",
        "def transform_date(date):\n",
        "        y, m, d = date.split('/')\n",
        "        return str(int(y)+1911) + '/' + m  + '/' + d  #民國轉西元\n",
        "    \n",
        "def transform_data(data):\n",
        "    data[0] = datetime.datetime.strptime(transform_date(data[0]), '%Y/%m/%d')\n",
        "    data[1] = int(data[1].replace(',', ''))  #把千進位的逗點去除\n",
        "    data[2] = int(data[2].replace(',', ''))\n",
        "    data[3] = float(data[3].replace(',', ''))\n",
        "    data[4] = float(data[4].replace(',', ''))\n",
        "    data[5] = float(data[5].replace(',', ''))\n",
        "    data[6] = float(data[6].replace(',', ''))\n",
        "    data[7] = float(0.0 if data[7].replace(',', '') == 'X0.00' else data[7].replace(',', ''))  # +/-/X表示漲/跌/不比價\n",
        "    data[8] = int(data[8].replace(',', ''))\n",
        "    return data\n",
        "\n",
        "def transform(data):\n",
        "    return [transform_data(d) for d in data]\n",
        "\n",
        "def create_df(date,stock_no):\n",
        "    s = pd.DataFrame(get_stock_history(date, stock_no))\n",
        "    s.columns = ['date', 'shares', 'amount', 'open', 'high', 'low', 'close', 'change', 'turnover']\n",
        "                #\"日期\",\"成交股數\",\"成交金額\",\"開盤價\",\"最高價\",\"最低價\",\"收盤價\",\"漲跌價差\",\"成交筆數\" \n",
        "    stock = []\n",
        "    for i in range(len(s)):\n",
        "        stock.append(stock_no)\n",
        "    s['stockno'] = pd.Series(stock ,index=s.index)  #新增股票代碼欄，之後所有股票進入資料表才能知道是哪一張股票\n",
        "    datelist = []\n",
        "    for i in range(len(s)):\n",
        "        datelist.append(s['date'][i])\n",
        "    s.index = datelist  #索引值改成日期\n",
        "    s2 = s.drop(['date'],axis = 1)  #刪除日期欄位\n",
        "    mlist = []\n",
        "    for item in s2.index:\n",
        "        mlist.append(item.month)\n",
        "    s2['month'] = mlist  #新增月份欄位\n",
        "    return s2\n",
        "        \n",
        "listDji = ['2330']\n",
        "for i in range(len(listDji)):\n",
        "    result = create_df('20230430', listDji[i])\n",
        "    print(result)\n",
        "    \n",
        "print(result.groupby('month').close.count())  #每個月幾個營業日\n",
        "print(result.groupby('month').shares.sum())  #每個月累計成交股數"
      ]
    }
  ]
}