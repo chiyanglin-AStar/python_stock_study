{
  "nbformat": 4,
  "nbformat_minor": 0,
  "metadata": {
    "colab": {
      "provenance": [],
      "authorship_tag": "ABX9TyOtUNsGv1Y1GsWn6Q6Ok9u3",
      "include_colab_link": true
    },
    "kernelspec": {
      "name": "python3",
      "display_name": "Python 3"
    },
    "language_info": {
      "name": "python"
    }
  },
  "cells": [
    {
      "cell_type": "markdown",
      "metadata": {
        "id": "view-in-github",
        "colab_type": "text"
      },
      "source": [
        "<a href=\"https://colab.research.google.com/github/chiyanglin-AStar/python_stock_study/blob/main/stock_monthly_data.ipynb\" target=\"_parent\"><img src=\"https://colab.research.google.com/assets/colab-badge.svg\" alt=\"Open In Colab\"/></a>"
      ]
    },
    {
      "cell_type": "markdown",
      "source": [],
      "metadata": {
        "id": "66AdQju9YCgk"
      }
    },
    {
      "cell_type": "code",
      "source": [
        "#@markdown ** Output Paths**\n",
        "# ask for the link\n",
        "print(\"Local Path Variables:\\n\")\n",
        "\n",
        "output_path = \"/content/output\" #@param {type:\"string\"}\n",
        "\n",
        "#@markdown **Google Drive Path Variables (Optional)**\n",
        "mount_google_drive = True #@param {type:\"boolean\"}\n",
        "force_remount = False\n",
        "\n",
        "if mount_google_drive:\n",
        "    from google.colab import drive # type: ignore\n",
        "    try:\n",
        "        drive_path = \"/content/drive\"\n",
        "        drive.mount(drive_path,force_remount=force_remount) \n",
        "        output_path_gdrive = \"/content/drive/MyDrive/Stock/\" #@param {type:\"string\"}\n",
        "        output_path = output_path_gdrive\n",
        "    except:\n",
        "        print(\"...error mounting drive or with drive path variables\")\n",
        "        print(\"...reverting to default path variables\")\n",
        "\n",
        "import os\n",
        "os.makedirs(output_path, exist_ok=True)\n",
        "\n",
        "print(f\"output_path: {output_path}\")"
      ],
      "metadata": {
        "id": "mYdrd2WWZab8",
        "outputId": "c73fc1e4-6dd2-421e-8cd3-11219e23e023",
        "colab": {
          "base_uri": "https://localhost:8080/"
        }
      },
      "execution_count": 1,
      "outputs": [
        {
          "output_type": "stream",
          "name": "stdout",
          "text": [
            "Local Path Variables:\n",
            "\n",
            "Mounted at /content/drive\n",
            "output_path: /content/drive/MyDrive/Stock/\n"
          ]
        }
      ]
    },
    {
      "cell_type": "code",
      "source": [
        "!pip install loguru"
      ],
      "metadata": {
        "colab": {
          "base_uri": "https://localhost:8080/"
        },
        "id": "I9lWhdepbD18",
        "outputId": "851d6fbf-7734-4177-f3aa-4e7a7dfad386"
      },
      "execution_count": 2,
      "outputs": [
        {
          "output_type": "stream",
          "name": "stdout",
          "text": [
            "Looking in indexes: https://pypi.org/simple, https://us-python.pkg.dev/colab-wheels/public/simple/\n",
            "Collecting loguru\n",
            "  Downloading loguru-0.7.0-py3-none-any.whl (59 kB)\n",
            "\u001b[2K     \u001b[90m━━━━━━━━━━━━━━━━━━━━━━━━━━━━━━━━━━━━━━━━\u001b[0m \u001b[32m60.0/60.0 kB\u001b[0m \u001b[31m7.4 MB/s\u001b[0m eta \u001b[36m0:00:00\u001b[0m\n",
            "\u001b[?25hInstalling collected packages: loguru\n",
            "Successfully installed loguru-0.7.0\n"
          ]
        }
      ]
    },
    {
      "cell_type": "markdown",
      "source": [],
      "metadata": {
        "id": "nfF4bpn8YBbV"
      }
    },
    {
      "cell_type": "code",
      "source": [
        "!pip install --upgrade mplfinance"
      ],
      "metadata": {
        "id": "jZDve9Va76A7",
        "outputId": "46e08277-13b6-4e7f-df54-36411376cdc8",
        "colab": {
          "base_uri": "https://localhost:8080/"
        }
      },
      "execution_count": 13,
      "outputs": [
        {
          "output_type": "stream",
          "name": "stdout",
          "text": [
            "Looking in indexes: https://pypi.org/simple, https://us-python.pkg.dev/colab-wheels/public/simple/\n",
            "Collecting mplfinance\n",
            "  Downloading mplfinance-0.12.9b7-py3-none-any.whl (73 kB)\n",
            "\u001b[2K     \u001b[90m━━━━━━━━━━━━━━━━━━━━━━━━━━━━━━━━━━━━━━━━\u001b[0m \u001b[32m73.1/73.1 kB\u001b[0m \u001b[31m7.2 MB/s\u001b[0m eta \u001b[36m0:00:00\u001b[0m\n",
            "\u001b[?25hRequirement already satisfied: matplotlib in /usr/local/lib/python3.10/dist-packages (from mplfinance) (3.7.1)\n",
            "Requirement already satisfied: pandas in /usr/local/lib/python3.10/dist-packages (from mplfinance) (1.5.3)\n",
            "Requirement already satisfied: contourpy>=1.0.1 in /usr/local/lib/python3.10/dist-packages (from matplotlib->mplfinance) (1.0.7)\n",
            "Requirement already satisfied: cycler>=0.10 in /usr/local/lib/python3.10/dist-packages (from matplotlib->mplfinance) (0.11.0)\n",
            "Requirement already satisfied: fonttools>=4.22.0 in /usr/local/lib/python3.10/dist-packages (from matplotlib->mplfinance) (4.39.3)\n",
            "Requirement already satisfied: kiwisolver>=1.0.1 in /usr/local/lib/python3.10/dist-packages (from matplotlib->mplfinance) (1.4.4)\n",
            "Requirement already satisfied: numpy>=1.20 in /usr/local/lib/python3.10/dist-packages (from matplotlib->mplfinance) (1.22.4)\n",
            "Requirement already satisfied: packaging>=20.0 in /usr/local/lib/python3.10/dist-packages (from matplotlib->mplfinance) (23.1)\n",
            "Requirement already satisfied: pillow>=6.2.0 in /usr/local/lib/python3.10/dist-packages (from matplotlib->mplfinance) (8.4.0)\n",
            "Requirement already satisfied: pyparsing>=2.3.1 in /usr/local/lib/python3.10/dist-packages (from matplotlib->mplfinance) (3.0.9)\n",
            "Requirement already satisfied: python-dateutil>=2.7 in /usr/local/lib/python3.10/dist-packages (from matplotlib->mplfinance) (2.8.2)\n",
            "Requirement already satisfied: pytz>=2020.1 in /usr/local/lib/python3.10/dist-packages (from pandas->mplfinance) (2022.7.1)\n",
            "Requirement already satisfied: six>=1.5 in /usr/local/lib/python3.10/dist-packages (from python-dateutil>=2.7->matplotlib->mplfinance) (1.16.0)\n",
            "Installing collected packages: mplfinance\n",
            "Successfully installed mplfinance-0.12.9b7\n"
          ]
        }
      ]
    },
    {
      "cell_type": "code",
      "source": [
        "import requests\n",
        "import json\n",
        "import pandas as pd\n",
        "import matplotlib\n",
        "import mplfinance as mpf\n",
        "# 導入pandas、matplotlib、mplfinance模組，將mplfinance模組縮寫為mpf\n",
        "# 這邊要導入matplotlib的原因是因為mplfinance繪圖時需要調用mptplotlib模組"
      ],
      "metadata": {
        "id": "p6sWkUZj7TmD"
      },
      "execution_count": 22,
      "outputs": []
    },
    {
      "cell_type": "code",
      "source": [
        "url = \"https://www.twse.com.tw/exchangeReport/STOCK_DAY?response=json&date=20210801&stockNo=0050\"\n",
        "payload = {}\n",
        "headers = {}\n",
        "response = requests.request(\"GET\",url,headers=headers,data=payload)\n",
        "print(response.text)"
      ],
      "metadata": {
        "colab": {
          "base_uri": "https://localhost:8080/"
        },
        "id": "SGU8I_W2yJAs",
        "outputId": "6939fc2b-7da9-4780-9978-0c35fd9e8ee0"
      },
      "execution_count": 23,
      "outputs": [
        {
          "output_type": "stream",
          "name": "stdout",
          "text": [
            "{\"stat\":\"OK\",\"date\":\"20210801\",\"title\":\"110年08月 0050 元大台灣50       各日成交資訊\",\"fields\":[\"日期\",\"成交股數\",\"成交金額\",\"開盤價\",\"最高價\",\"最低價\",\"收盤價\",\"漲跌價差\",\"成交筆數\"],\"data\":[[\"110/08/02\",\"7,376,244\",\"1,011,342,122\",\"137.00\",\"138.00\",\"136.05\",\"137.90\",\"+1.85\",\"5,273\"],[\"110/08/03\",\"6,224,382\",\"859,255,808\",\"137.95\",\"138.45\",\"137.70\",\"138.45\",\"+0.55\",\"5,115\"],[\"110/08/04\",\"5,642,671\",\"784,584,423\",\"138.65\",\"139.30\",\"138.45\",\"139.25\",\"+0.80\",\"5,413\"],[\"110/08/05\",\"5,840,987\",\"813,087,525\",\"139.25\",\"139.45\",\"138.85\",\"139.00\",\"-0.25\",\"6,400\"],[\"110/08/06\",\"4,031,604\",\"558,390,394\",\"138.90\",\"139.00\",\"137.80\",\"138.80\",\"-0.20\",\"5,590\"],[\"110/08/09\",\"5,186,503\",\"714,762,861\",\"138.20\",\"138.55\",\"136.70\",\"138.40\",\"-0.40\",\"5,861\"],[\"110/08/10\",\"2,676,946\",\"369,136,949\",\"138.45\",\"138.50\",\"137.50\",\"137.65\",\"-0.75\",\"6,027\"],[\"110/08/11\",\"3,867,154\",\"529,729,666\",\"137.35\",\"137.65\",\"136.60\",\"137.20\",\"-0.45\",\"7,131\"],[\"110/08/12\",\"2,376,688\",\"325,349,900\",\"137.20\",\"137.25\",\"136.50\",\"136.95\",\"-0.25\",\"4,386\"],[\"110/08/13\",\"7,816,273\",\"1,061,673,383\",\"136.60\",\"136.85\",\"135.55\",\"135.65\",\"-1.30\",\"16,810\"],[\"110/08/16\",\"11,135,323\",\"1,506,240,702\",\"135.50\",\"135.75\",\"134.90\",\"135.35\",\"-0.30\",\"14,444\"],[\"110/08/17\",\"13,757,654\",\"1,854,533,694\",\"135.40\",\"135.50\",\"134.30\",\"134.35\",\"-1.00\",\"20,363\"],[\"110/08/18\",\"22,162,774\",\"2,958,372,270\",\"133.60\",\"134.95\",\"132.45\",\"134.90\",\"+0.55\",\"20,199\"],[\"110/08/19\",\"28,091,032\",\"3,719,709,802\",\"134.50\",\"134.50\",\"131.60\",\"131.80\",\"-3.10\",\"41,771\"],[\"110/08/20\",\"16,501,498\",\"2,163,648,386\",\"132.20\",\"132.80\",\"130.20\",\"130.75\",\"-1.05\",\"20,673\"],[\"110/08/23\",\"6,086,614\",\"814,769,062\",\"132.25\",\"134.45\",\"132.15\",\"134.35\",\"+3.60\",\"7,827\"],[\"110/08/24\",\"5,086,550\",\"685,956,249\",\"135.20\",\"135.35\",\"134.60\",\"134.75\",\"+0.40\",\"4,866\"],[\"110/08/25\",\"7,031,858\",\"954,442,277\",\"135.15\",\"136.10\",\"135.15\",\"136.05\",\"+1.30\",\"6,772\"],[\"110/08/26\",\"7,276,078\",\"997,127,716\",\"137.45\",\"138.00\",\"136.35\",\"137.00\",\"+0.95\",\"6,899\"],[\"110/08/27\",\"16,875,047\",\"2,328,482,421\",\"136.70\",\"138.50\",\"136.45\",\"138.15\",\"+1.15\",\"9,673\"],[\"110/08/30\",\"21,974,199\",\"3,054,444,066\",\"138.65\",\"139.50\",\"138.45\",\"139.50\",\"+1.35\",\"15,333\"],[\"110/08/31\",\"16,604,451\",\"2,314,461,154\",\"139.40\",\"140.35\",\"138.10\",\"140.35\",\"+0.85\",\"12,191\"]],\"notes\":[\"符號說明:+/-/X表示漲/跌/不比價\",\"當日統計資訊含一般、零股、盤後定價、鉅額交易，不含拍賣、標購。\",\"ETF證券代號第六碼為K、M、S、C者，表示該ETF以外幣交易。\"],\"total\":22}\n"
          ]
        }
      ]
    },
    {
      "cell_type": "code",
      "source": [
        "# 台灣證券交易所，個股日成交資訊\n",
        "#url = \"https://www.twse.com.tw/exchangeReport/STOCK_DAY?response=json&date=20210801&stockNo=0050\"\n",
        "date   = '20230430' #@param {type:\"string\"}\n",
        "stock_no = '0050' #@param {type:\"string\"} \n",
        "url = \"https://www.twse.com.tw/exchangeReport/STOCK_DAY?response=json&\"+\"date=\"+date+\"&stockNo=\"+ stock_no\n",
        "print(url)\n",
        "# 取得股票資料json字串\n",
        "response = requests.get(url)\n",
        "print(response.text)\n"
      ],
      "metadata": {
        "colab": {
          "base_uri": "https://localhost:8080/"
        },
        "id": "L3CqPLtDeLoV",
        "outputId": "4626fbf3-80fc-4345-d30f-86c075d1f709"
      },
      "execution_count": 24,
      "outputs": [
        {
          "output_type": "stream",
          "name": "stdout",
          "text": [
            "https://www.twse.com.tw/exchangeReport/STOCK_DAY?response=json&date=20230430&stockNo=0050\n",
            "{\"stat\":\"OK\",\"date\":\"20230430\",\"title\":\"112年04月 0050 元大台灣50       各日成交資訊\",\"fields\":[\"日期\",\"成交股數\",\"成交金額\",\"開盤價\",\"最高價\",\"最低價\",\"收盤價\",\"漲跌價差\",\"成交筆數\"],\"data\":[[\"112/04/06\",\"8,076,540\",\"975,648,621\",\"120.85\",\"121.00\",\"120.20\",\"121.00\",\"-0.60\",\"15,029\"],[\"112/04/07\",\"4,623,088\",\"559,443,394\",\"121.25\",\"121.45\",\"120.80\",\"121.00\",\" 0.00\",\"6,781\"],[\"112/04/10\",\"4,503,497\",\"545,831,612\",\"121.25\",\"121.65\",\"120.90\",\"121.00\",\" 0.00\",\"10,059\"],[\"112/04/11\",\"6,233,410\",\"753,799,317\",\"121.00\",\"121.15\",\"120.40\",\"120.85\",\"-0.15\",\"7,741\"],[\"112/04/12\",\"3,247,078\",\"391,083,845\",\"120.85\",\"120.85\",\"120.15\",\"120.55\",\"-0.30\",\"8,438\"],[\"112/04/13\",\"7,509,494\",\"899,888,595\",\"120.05\",\"120.15\",\"119.50\",\"119.50\",\"-1.05\",\"20,441\"],[\"112/04/14\",\"3,289,954\",\"396,239,471\",\"120.00\",\"120.90\",\"119.85\",\"120.65\",\"+1.15\",\"5,326\"],[\"112/04/17\",\"6,061,114\",\"728,092,733\",\"120.35\",\"120.50\",\"119.80\",\"120.35\",\"-0.30\",\"10,622\"],[\"112/04/18\",\"5,183,750\",\"621,931,940\",\"120.35\",\"120.40\",\"119.75\",\"119.95\",\"-0.40\",\"8,973\"],[\"112/04/19\",\"8,700,172\",\"1,037,538,973\",\"120.00\",\"120.05\",\"118.80\",\"119.05\",\"-0.90\",\"22,007\"],[\"112/04/20\",\"7,081,813\",\"841,412,699\",\"118.85\",\"119.40\",\"118.40\",\"118.90\",\"-0.15\",\"14,761\"],[\"112/04/21\",\"5,326,801\",\"633,413,325\",\"119.45\",\"119.55\",\"118.50\",\"118.60\",\"-0.30\",\"11,296\"],[\"112/04/24\",\"7,308,582\",\"863,114,882\",\"117.80\",\"118.50\",\"117.70\",\"118.15\",\"-0.45\",\"16,153\"],[\"112/04/25\",\"21,039,325\",\"2,465,027,235\",\"118.30\",\"118.30\",\"116.55\",\"116.60\",\"-1.55\",\"50,500\"],[\"112/04/26\",\"14,209,529\",\"1,647,263,712\",\"116.55\",\"116.60\",\"115.65\",\"116.10\",\"-0.50\",\"27,918\"],[\"112/04/27\",\"10,274,310\",\"1,192,417,644\",\"116.05\",\"116.65\",\"115.50\",\"116.00\",\"-0.10\",\"16,910\"],[\"112/04/28\",\"6,023,403\",\"705,691,455\",\"116.85\",\"117.55\",\"116.85\",\"117.40\",\"+1.40\",\"8,752\"]],\"notes\":[\"符號說明:+/-/X表示漲/跌/不比價\",\"當日統計資訊含一般、零股、盤後定價、鉅額交易，不含拍賣、標購。\",\"ETF證券代號第六碼為K、M、S、C者，表示該ETF以外幣交易。\"],\"total\":17}\n"
          ]
        }
      ]
    },
    {
      "cell_type": "code",
      "source": [
        "# 從1到12月\n",
        "for m in range(2,3):\n",
        "    url = \"https://www.twse.com.tw/exchangeReport/STOCK_DAY?response=json&date=2020{0:02d}01&stockNo=0050\".format(m)\n",
        "    print(url)\n",
        "\n",
        "    # 取得股票資料json字串\n",
        "    response = requests.get(url, headers=headers)\n",
        "    print(response.text)\n",
        "\n",
        "    # 從json字串轉為python的字典格式\n",
        "    json_data = json.loads(response.text)\n",
        "    datas = json_data[\"data\"]\n",
        "    fields = json_data[\"fields\"]"
      ],
      "metadata": {
        "colab": {
          "base_uri": "https://localhost:8080/"
        },
        "id": "EAGO0c871CWt",
        "outputId": "78bffe2d-3967-479e-c889-1c5c1b2bda45"
      },
      "execution_count": 25,
      "outputs": [
        {
          "output_type": "stream",
          "name": "stdout",
          "text": [
            "https://www.twse.com.tw/exchangeReport/STOCK_DAY?response=json&date=20200201&stockNo=0050\n",
            "{\"stat\":\"OK\",\"date\":\"20200201\",\"title\":\"109年02月 0050 元大台灣50       各日成交資訊\",\"fields\":[\"日期\",\"成交股數\",\"成交金額\",\"開盤價\",\"最高價\",\"最低價\",\"收盤價\",\"漲跌價差\",\"成交筆數\"],\"data\":[[\"109/02/03\",\"15,823,593\",\"1,401,640,343\",\"88.50\",\"89.15\",\"87.60\",\"89.05\",\"-0.90\",\"7,843\"],[\"109/02/04\",\"8,904,471\",\"804,708,649\",\"89.45\",\"90.95\",\"89.20\",\"90.60\",\"+1.55\",\"4,851\"],[\"109/02/05\",\"6,701,508\",\"609,037,681\",\"91.00\",\"91.30\",\"90.30\",\"90.85\",\"+0.25\",\"4,001\"],[\"109/02/06\",\"10,696,477\",\"982,277,669\",\"91.65\",\"92.30\",\"91.35\",\"92.30\",\"+1.45\",\"4,113\"],[\"109/02/07\",\"9,554,828\",\"871,832,328\",\"91.65\",\"91.65\",\"90.95\",\"91.20\",\"-1.10\",\"4,992\"],[\"109/02/10\",\"7,308,908\",\"661,411,947\",\"90.00\",\"91.20\",\"89.60\",\"91.00\",\"-0.20\",\"3,838\"],[\"109/02/11\",\"5,115,402\",\"468,988,015\",\"91.35\",\"91.95\",\"91.35\",\"91.75\",\"+0.75\",\"3,724\"],[\"109/02/12\",\"5,640,117\",\"521,567,062\",\"92.00\",\"92.90\",\"92.00\",\"92.65\",\"+0.90\",\"2,845\"],[\"109/02/13\",\"5,754,317\",\"534,947,681\",\"93.00\",\"93.25\",\"92.70\",\"92.80\",\"+0.15\",\"2,530\"],[\"109/02/14\",\"4,988,165\",\"463,738,591\",\"92.80\",\"93.25\",\"92.55\",\"92.95\",\"+0.15\",\"2,592\"],[\"109/02/17\",\"6,266,211\",\"578,240,762\",\"92.30\",\"92.55\",\"91.95\",\"92.30\",\"-0.65\",\"2,983\"],[\"109/02/18\",\"12,529,356\",\"1,143,154,993\",\"91.40\",\"91.60\",\"91.00\",\"91.05\",\"-1.25\",\"6,041\"],[\"109/02/19\",\"7,947,011\",\"730,212,458\",\"91.15\",\"92.25\",\"91.05\",\"92.10\",\"+1.05\",\"3,934\"],[\"109/02/20\",\"6,538,336\",\"599,664,476\",\"92.35\",\"92.50\",\"91.35\",\"91.70\",\"-0.40\",\"2,619\"],[\"109/02/21\",\"5,401,188\",\"493,195,200\",\"91.65\",\"91.95\",\"90.95\",\"91.25\",\"-0.45\",\"2,963\"],[\"109/02/24\",\"13,571,936\",\"1,222,019,338\",\"90.25\",\"90.40\",\"89.70\",\"90.10\",\"-1.15\",\"7,797\"],[\"109/02/25\",\"8,840,104\",\"796,170,580\",\"89.50\",\"90.50\",\"89.45\",\"90.35\",\"+0.25\",\"3,943\"],[\"109/02/26\",\"15,256,003\",\"1,362,216,157\",\"89.15\",\"89.75\",\"88.90\",\"89.45\",\"-0.90\",\"7,889\"],[\"109/02/27\",\"24,688,054\",\"2,190,387,154\",\"89.35\",\"89.50\",\"88.35\",\"88.65\",\"-0.80\",\"12,829\"]],\"notes\":[\"符號說明:+/-/X表示漲/跌/不比價\",\"當日統計資訊含一般、零股、盤後定價、鉅額交易，不含拍賣、標購。\",\"ETF證券代號第六碼為K、M、S、C者，表示該ETF以外幣交易。\"],\"total\":19}\n"
          ]
        }
      ]
    },
    {
      "cell_type": "code",
      "source": [
        "# 存成Pandas的Dataframe\n",
        "month_df = pd.DataFrame(datas, columns=fields)\n",
        "year_df = pd.DataFrame(datas, columns=fields)"
      ],
      "metadata": {
        "id": "F6yjOsv50qCQ"
      },
      "execution_count": 26,
      "outputs": []
    },
    {
      "cell_type": "code",
      "source": [
        "# 合併於整年的Dataframe\n",
        "year_df = year_df.append(month_df, ignore_index=True)"
      ],
      "metadata": {
        "id": "SxXIZaRb0uz4",
        "outputId": "e886ba1e-b717-4f52-f24c-699268a49c3c",
        "colab": {
          "base_uri": "https://localhost:8080/"
        }
      },
      "execution_count": 27,
      "outputs": [
        {
          "output_type": "stream",
          "name": "stderr",
          "text": [
            "<ipython-input-27-43c972035de8>:2: FutureWarning: The frame.append method is deprecated and will be removed from pandas in a future version. Use pandas.concat instead.\n",
            "  year_df = year_df.append(month_df, ignore_index=True)\n"
          ]
        }
      ]
    },
    {
      "cell_type": "code",
      "source": [
        "# 轉成csv檔\n",
        "year_df.to_csv(\"./year_stock.csv\", encoding=\"big5\")"
      ],
      "metadata": {
        "id": "5F0az8Nh0y_I"
      },
      "execution_count": 28,
      "outputs": []
    },
    {
      "cell_type": "code",
      "source": [
        "target_stock = '0050' #設定要繪製走勢圖的股票\n",
        "\n",
        "#df = pd.read_csv(f'./data/{target_stock}.csv', parse_dates=True, index_col=1) #讀取目標股票csv檔的位置\n",
        "df = pd.read_csv(f'./year_stock.csv', encoding=\"big5\" , parse_dates=True, index_col=1) #讀取目標股票csv檔的位置"
      ],
      "metadata": {
        "id": "U9M8W6Xy8OCS"
      },
      "execution_count": 29,
      "outputs": []
    },
    {
      "cell_type": "code",
      "source": [
        "df.rename(columns={'Turnover':'Volume'}, inplace = True) \n",
        "#這裡針對資料表做一下修正，因為交易量(Turnover)在mplfinance中須被改為Volume才能被認出來\n",
        "\n",
        "mc = mpf.make_marketcolors(up='r',down='g',inherit=True)\n",
        "s  = mpf.make_mpf_style(base_mpf_style='yahoo',marketcolors=mc)\n",
        "#針對線圖的外觀微調，將上漲設定為紅色，下跌設定為綠色，符合台股表示習慣\n",
        "#接著把自訂的marketcolors放到自訂的style中，而這個改動是基於預設的yahoo外觀\n",
        "\n",
        "kwargs = dict(type='candle', mav=(5,20,60), volume=True, figratio=(10,8), figscale=0.75, title=target_stock, style=s) \n",
        "#設定可變參數kwargs，並在變數中填上繪圖時會用到的設定值"
      ],
      "metadata": {
        "id": "aTcgIJMh81D3"
      },
      "execution_count": 31,
      "outputs": []
    },
    {
      "cell_type": "code",
      "source": [
        "mc = mpf.make_marketcolors(up='r',down='g',inherit=True)\n",
        "s  = mpf.make_mpf_style(base_mpf_style='yahoo',marketcolors=mc)\n",
        "#針對線圖的外觀微調，將上漲設定為紅色，下跌設定為綠色，符合台股表示習慣\n",
        "#接著把自訂的marketcolors放到自訂的style中，而這個改動是基於預設的yahoo外觀\n",
        "\n",
        "kwargs = dict(type='candle', mav=(5,20,60), volume=True, figratio=(10,8), figscale=0.75, title=target_stock, style=s) \n",
        "#設定可變參數kwargs，並在變數中填上繪圖時會用到的設定值\n",
        "\n",
        "mpf.plot(df, **kwargs)\n",
        "#選擇df資料表為資料來源，帶入kwargs參數，畫出目標股票的走勢圖"
      ],
      "metadata": {
        "id": "WXdWyt2R92g3"
      },
      "execution_count": null,
      "outputs": []
    },
    {
      "cell_type": "code",
      "source": [
        "mpf.plot(df, **kwargs)\n",
        "#選擇df資料表為資料來源，帶入kwargs參數，畫出目標股票的走勢圖"
      ],
      "metadata": {
        "id": "QhKcCFqe9IqY"
      },
      "execution_count": null,
      "outputs": []
    },
    {
      "cell_type": "code",
      "source": [
        "mpf.plot(df,type='candle',mav=(5,10,30),volume=True)"
      ],
      "metadata": {
        "id": "ACIT5l3D-Il3"
      },
      "execution_count": null,
      "outputs": []
    },
    {
      "cell_type": "code",
      "source": [
        "!pip install --upgrade mplfinance"
      ],
      "metadata": {
        "id": "6kwW1feJLgq9",
        "outputId": "d186b9a5-c621-49cd-efd5-bd8460c95bc4",
        "colab": {
          "base_uri": "https://localhost:8080/"
        }
      },
      "execution_count": 37,
      "outputs": [
        {
          "output_type": "stream",
          "name": "stdout",
          "text": [
            "Looking in indexes: https://pypi.org/simple, https://us-python.pkg.dev/colab-wheels/public/simple/\n",
            "Requirement already satisfied: mplfinance in /usr/local/lib/python3.10/dist-packages (0.12.9b7)\n",
            "Requirement already satisfied: matplotlib in /usr/local/lib/python3.10/dist-packages (from mplfinance) (3.7.1)\n",
            "Requirement already satisfied: pandas in /usr/local/lib/python3.10/dist-packages (from mplfinance) (1.5.3)\n",
            "Requirement already satisfied: contourpy>=1.0.1 in /usr/local/lib/python3.10/dist-packages (from matplotlib->mplfinance) (1.0.7)\n",
            "Requirement already satisfied: cycler>=0.10 in /usr/local/lib/python3.10/dist-packages (from matplotlib->mplfinance) (0.11.0)\n",
            "Requirement already satisfied: fonttools>=4.22.0 in /usr/local/lib/python3.10/dist-packages (from matplotlib->mplfinance) (4.39.3)\n",
            "Requirement already satisfied: kiwisolver>=1.0.1 in /usr/local/lib/python3.10/dist-packages (from matplotlib->mplfinance) (1.4.4)\n",
            "Requirement already satisfied: numpy>=1.20 in /usr/local/lib/python3.10/dist-packages (from matplotlib->mplfinance) (1.22.4)\n",
            "Requirement already satisfied: packaging>=20.0 in /usr/local/lib/python3.10/dist-packages (from matplotlib->mplfinance) (23.1)\n",
            "Requirement already satisfied: pillow>=6.2.0 in /usr/local/lib/python3.10/dist-packages (from matplotlib->mplfinance) (8.4.0)\n",
            "Requirement already satisfied: pyparsing>=2.3.1 in /usr/local/lib/python3.10/dist-packages (from matplotlib->mplfinance) (3.0.9)\n",
            "Requirement already satisfied: python-dateutil>=2.7 in /usr/local/lib/python3.10/dist-packages (from matplotlib->mplfinance) (2.8.2)\n",
            "Requirement already satisfied: pytz>=2020.1 in /usr/local/lib/python3.10/dist-packages (from pandas->mplfinance) (2022.7.1)\n",
            "Requirement already satisfied: six>=1.5 in /usr/local/lib/python3.10/dist-packages (from python-dateutil>=2.7->matplotlib->mplfinance) (1.16.0)\n"
          ]
        }
      ]
    },
    {
      "cell_type": "code",
      "source": [
        "import matplotlib.pyplot as plt\n",
        "from mpl_finance import candlestick_ohlc\n",
        "import pandas as pd\n",
        "import matplotlib.dates as mpl_dates\n",
        "\n",
        "plt.style.use('ggplot')\n",
        "\n",
        "# Extracting Data for plotting\n",
        "data = pd.read_csv('year_stock.csv')\n",
        "ohlc = data.loc[:, ['Date', 'Open', 'High', 'Low', 'Close']]\n",
        "ohlc['Date'] = pd.to_datetime(ohlc['Date'])\n",
        "ohlc['Date'] = ohlc['Date'].apply(mpl_dates.date2num)\n",
        "ohlc = ohlc.astype(float)\n",
        "\n",
        "# Creating Subplots\n",
        "fig, ax = plt.subplots()\n",
        "plt.axis('off')\n",
        "fig.patch.set_facecolor('black')\n",
        "\n",
        "candlestick_ohlc(ax, ohlc.values, width=0.6, colorup='green', colordown='red', alpha=0.8)\n",
        "\n",
        "plt.show()"
      ],
      "metadata": {
        "id": "bQmU8eq3LKq3",
        "outputId": "379c38fb-0085-49fb-9ef9-a54820a2997e",
        "colab": {
          "base_uri": "https://localhost:8080/",
          "height": 375
        }
      },
      "execution_count": 39,
      "outputs": [
        {
          "output_type": "error",
          "ename": "ModuleNotFoundError",
          "evalue": "ignored",
          "traceback": [
            "\u001b[0;31m---------------------------------------------------------------------------\u001b[0m",
            "\u001b[0;31mModuleNotFoundError\u001b[0m                       Traceback (most recent call last)",
            "\u001b[0;32m<ipython-input-39-c00adb430ded>\u001b[0m in \u001b[0;36m<cell line: 2>\u001b[0;34m()\u001b[0m\n\u001b[1;32m      1\u001b[0m \u001b[0;32mimport\u001b[0m \u001b[0mmatplotlib\u001b[0m\u001b[0;34m.\u001b[0m\u001b[0mpyplot\u001b[0m \u001b[0;32mas\u001b[0m \u001b[0mplt\u001b[0m\u001b[0;34m\u001b[0m\u001b[0;34m\u001b[0m\u001b[0m\n\u001b[0;32m----> 2\u001b[0;31m \u001b[0;32mfrom\u001b[0m \u001b[0mmpl_finance\u001b[0m \u001b[0;32mimport\u001b[0m \u001b[0mcandlestick_ohlc\u001b[0m\u001b[0;34m\u001b[0m\u001b[0;34m\u001b[0m\u001b[0m\n\u001b[0m\u001b[1;32m      3\u001b[0m \u001b[0;32mimport\u001b[0m \u001b[0mpandas\u001b[0m \u001b[0;32mas\u001b[0m \u001b[0mpd\u001b[0m\u001b[0;34m\u001b[0m\u001b[0;34m\u001b[0m\u001b[0m\n\u001b[1;32m      4\u001b[0m \u001b[0;32mimport\u001b[0m \u001b[0mmatplotlib\u001b[0m\u001b[0;34m.\u001b[0m\u001b[0mdates\u001b[0m \u001b[0;32mas\u001b[0m \u001b[0mmpl_dates\u001b[0m\u001b[0;34m\u001b[0m\u001b[0;34m\u001b[0m\u001b[0m\n\u001b[1;32m      5\u001b[0m \u001b[0;34m\u001b[0m\u001b[0m\n",
            "\u001b[0;31mModuleNotFoundError\u001b[0m: No module named 'mpl_finance'",
            "",
            "\u001b[0;31m---------------------------------------------------------------------------\u001b[0;32m\nNOTE: If your import is failing due to a missing package, you can\nmanually install dependencies using either !pip or !apt.\n\nTo view examples of installing some common dependencies, click the\n\"Open Examples\" button below.\n\u001b[0;31m---------------------------------------------------------------------------\u001b[0m\n"
          ],
          "errorDetails": {
            "actions": [
              {
                "action": "open_url",
                "actionText": "Open Examples",
                "url": "/notebooks/snippets/importing_libraries.ipynb"
              }
            ]
          }
        }
      ]
    }
  ]
}