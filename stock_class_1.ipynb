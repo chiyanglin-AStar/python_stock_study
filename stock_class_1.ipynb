{
  "nbformat": 4,
  "nbformat_minor": 0,
  "metadata": {
    "colab": {
      "provenance": [],
      "authorship_tag": "ABX9TyNMmD8+3hp59ZdsPsKGKZ/q",
      "include_colab_link": true
    },
    "kernelspec": {
      "name": "python3",
      "display_name": "Python 3"
    },
    "language_info": {
      "name": "python"
    }
  },
  "cells": [
    {
      "cell_type": "markdown",
      "metadata": {
        "id": "view-in-github",
        "colab_type": "text"
      },
      "source": [
        "<a href=\"https://colab.research.google.com/github/chiyanglin-AStar/python_stock_study/blob/main/stock_class_1.ipynb\" target=\"_parent\"><img src=\"https://colab.research.google.com/assets/colab-badge.svg\" alt=\"Open In Colab\"/></a>"
      ]
    },
    {
      "cell_type": "markdown",
      "source": [],
      "metadata": {
        "id": "66AdQju9YCgk"
      }
    },
    {
      "cell_type": "code",
      "source": [
        "#@markdown ** Output Paths**\n",
        "# ask for the link\n",
        "print(\"Local Path Variables:\\n\")\n",
        "\n",
        "output_path = \"/content/output\" #@param {type:\"string\"}\n",
        "\n",
        "#@markdown **Google Drive Path Variables (Optional)**\n",
        "mount_google_drive = True #@param {type:\"boolean\"}\n",
        "force_remount = False\n",
        "\n",
        "if mount_google_drive:\n",
        "    from google.colab import drive # type: ignore\n",
        "    try:\n",
        "        drive_path = \"/content/drive\"\n",
        "        drive.mount(drive_path,force_remount=force_remount) \n",
        "        output_path_gdrive = \"/content/drive/MyDrive/Stock/\" #@param {type:\"string\"}\n",
        "        output_path = output_path_gdrive\n",
        "    except:\n",
        "        print(\"...error mounting drive or with drive path variables\")\n",
        "        print(\"...reverting to default path variables\")\n",
        "\n",
        "import os\n",
        "os.makedirs(output_path, exist_ok=True)\n",
        "\n",
        "print(f\"output_path: {output_path}\")"
      ],
      "metadata": {
        "id": "mYdrd2WWZab8"
      },
      "execution_count": null,
      "outputs": []
    },
    {
      "cell_type": "code",
      "source": [
        "!pip install loguru"
      ],
      "metadata": {
        "id": "I9lWhdepbD18",
        "outputId": "5e75ec78-0aac-4a57-e98f-3d08819c5ebe",
        "colab": {
          "base_uri": "https://localhost:8080/"
        }
      },
      "execution_count": 2,
      "outputs": [
        {
          "output_type": "stream",
          "name": "stdout",
          "text": [
            "Looking in indexes: https://pypi.org/simple, https://us-python.pkg.dev/colab-wheels/public/simple/\n",
            "Collecting loguru\n",
            "  Downloading loguru-0.7.0-py3-none-any.whl (59 kB)\n",
            "\u001b[2K     \u001b[90m━━━━━━━━━━━━━━━━━━━━━━━━━━━━━━━━━━━━━━━━\u001b[0m \u001b[32m60.0/60.0 kB\u001b[0m \u001b[31m3.0 MB/s\u001b[0m eta \u001b[36m0:00:00\u001b[0m\n",
            "\u001b[?25hInstalling collected packages: loguru\n",
            "Successfully installed loguru-0.7.0\n"
          ]
        }
      ]
    },
    {
      "cell_type": "code",
      "execution_count": null,
      "metadata": {
        "id": "Djx-Ig65YAvA"
      },
      "outputs": [],
      "source": [
        "#@ 輸入股票代號\n",
        "\n",
        "stock.no = '2330.TW' #@param {type:\"string\"} \n",
        "\n"
      ]
    },
    {
      "cell_type": "code",
      "source": [
        "class AfterHoursDailyInfo:\n",
        "    def __init__(\n",
        "        self,\n",
        "        code,\n",
        "        date,\n",
        "        totalShare,\n",
        "        totalTurnover,\n",
        "        openPrice,\n",
        "        highestPrice,\n",
        "        lowestPrice,\n",
        "        closePrice):\n",
        "        # 代碼\n",
        "        self.Code = code\n",
        "        # 日期\n",
        "        self.Date = date\n",
        "        # 成交股數\n",
        "        self.TotalShare = totalShare\n",
        "        # 成交金額\n",
        "        self.TotalTurnover = totalTurnover\n",
        "        # 開盤價\n",
        "        self.OpenPrice = openPrice\n",
        "        # 最高價\n",
        "        self.HighestPrice = highestPrice\n",
        "        # 最低價\n",
        "        self.LowestPrice = lowestPrice\n",
        "        # 收盤價\n",
        "        self.ClosePrice = closePrice"
      ],
      "metadata": {
        "id": "H7MZj5-5bNdH"
      },
      "execution_count": 4,
      "outputs": []
    },
    {
      "cell_type": "code",
      "source": [
        "import csv\n",
        "import datetime\n",
        "import io\n",
        "import os\n",
        "import loguru\n",
        "import requests\n",
        "\n",
        "def main(year, month, code):\n",
        "    date = f'{year}{month:02}01'\n",
        "    resp = requests.get(\n",
        "        f'https://www.twse.com.tw/exchangeReport/STOCK_DAY?' +\n",
        "        f'response=csv&date={date}&stockNo={code}')\n",
        "    if resp.status_code != 200:\n",
        "        loguru.logger.error('RESP: status code is not 200')\n",
        "    loguru.logger.success('RESP: success')\n",
        "\n",
        "    # 個股每月各交易日盤後資訊清單\n",
        "    afterHoursDailyInfos = []\n",
        "    # 取出 CSV 內容，並去除第一行及最後 5 行\n",
        "    lines = io.StringIO(resp.text).readlines()\n",
        "    lines = lines[1:-5]\n",
        "    # 透過 CSV 讀取器載入\n",
        "    reader = csv.DictReader(io.StringIO('\\n'.join(lines)))\n",
        "    # 依序取出每筆資料行\n",
        "    for row in reader:\n",
        "        # 取出日期欄位值\n",
        "        date = row['日期'].strip()\n",
        "        # 取出成交股數欄位值\n",
        "        totalShare = row['成交股數'].replace(',', '').strip()\n",
        "        # 取出成交金額欄位值\n",
        "        totalTurnover = row['成交金額'].replace(',', '').strip()\n",
        "        # 取出開盤價欄位值\n",
        "        openPrice = row['開盤價']\n",
        "        # 取出最高價欄位值\n",
        "        highestPrice = row['最高價']\n",
        "        # 取出最低價欄位值\n",
        "        lowestPrice = row['最低價']\n",
        "        # 取出收盤價欄位值\n",
        "        closePrice = row['收盤價']\n",
        "        afterHoursDailyInfo = AfterHoursDailyInfo(\n",
        "            code=code,\n",
        "            date=date,\n",
        "            totalShare=totalShare,\n",
        "            totalTurnover=totalTurnover,\n",
        "            openPrice=openPrice,\n",
        "            highestPrice=highestPrice,\n",
        "            lowestPrice=lowestPrice,\n",
        "            closePrice=closePrice\n",
        "        )\n",
        "        afterHoursDailyInfos.append(afterHoursDailyInfo)\n",
        "    loguru.logger.info(afterHoursDailyInfos)\n",
        "\n",
        "    # 將每筆物件表達式輸出的字串以系統換行符號相接，讓每筆物件表達式各自獨立一行\n",
        "    message = os.linesep.join([\n",
        "        str(afterHoursDailyInfo)\n",
        "        for afterHoursDailyInfo in afterHoursDailyInfos\n",
        "    ])\n",
        "    loguru.logger.info('AFTERHOURSDAILYINFOS' + os.linesep + message)\n",
        "\n",
        "if __name__ == '__main__':\n",
        "    loguru.logger.add(\n",
        "        f'{datetime.date.today():%Y%m%d}.log',\n",
        "        rotation='1 day',\n",
        "        retention='7 days',\n",
        "        level='DEBUG'\n",
        "    )\n",
        "    # 傳入年、月及股票代碼\n",
        "    main(2019, 4, '1101')"
      ],
      "metadata": {
        "id": "bE9vulXtaxAA",
        "outputId": "3f966241-c4d1-4003-86f5-e06fa2b2b99a",
        "colab": {
          "base_uri": "https://localhost:8080/"
        }
      },
      "execution_count": 6,
      "outputs": [
        {
          "output_type": "stream",
          "name": "stderr",
          "text": [
            "\u001b[32m2023-05-06 00:20:02.657\u001b[0m | \u001b[32m\u001b[1mSUCCESS \u001b[0m | \u001b[36m__main__\u001b[0m:\u001b[36mmain\u001b[0m:\u001b[36m15\u001b[0m - \u001b[32m\u001b[1mRESP: success\u001b[0m\n",
            "\u001b[32m2023-05-06 00:20:02.661\u001b[0m | \u001b[1mINFO    \u001b[0m | \u001b[36m__main__\u001b[0m:\u001b[36mmain\u001b[0m:\u001b[36m51\u001b[0m - \u001b[1m[<__main__.AfterHoursDailyInfo object at 0x7f57d7b3dff0>, <__main__.AfterHoursDailyInfo object at 0x7f57d7b3f0d0>, <__main__.AfterHoursDailyInfo object at 0x7f57d7b3f580>, <__main__.AfterHoursDailyInfo object at 0x7f57d7b3fc40>, <__main__.AfterHoursDailyInfo object at 0x7f57d7b3f1f0>, <__main__.AfterHoursDailyInfo object at 0x7f57d7b3f100>, <__main__.AfterHoursDailyInfo object at 0x7f57d7b3ee00>, <__main__.AfterHoursDailyInfo object at 0x7f57d7b3e7d0>, <__main__.AfterHoursDailyInfo object at 0x7f57d7b3f9d0>, <__main__.AfterHoursDailyInfo object at 0x7f57d7b3e860>, <__main__.AfterHoursDailyInfo object at 0x7f57d7b3ea70>, <__main__.AfterHoursDailyInfo object at 0x7f57d7b3f520>, <__main__.AfterHoursDailyInfo object at 0x7f57d7b3fdc0>, <__main__.AfterHoursDailyInfo object at 0x7f57d7b3eaa0>, <__main__.AfterHoursDailyInfo object at 0x7f57b75d3190>, <__main__.AfterHoursDailyInfo object at 0x7f57b75d3a90>, <__main__.AfterHoursDailyInfo object at 0x7f57b75d3ac0>, <__main__.AfterHoursDailyInfo object at 0x7f57b75d3a60>, <__main__.AfterHoursDailyInfo object at 0x7f57b75d3a00>, <__main__.AfterHoursDailyInfo object at 0x7f57b75d3340>]\u001b[0m\n",
            "\u001b[32m2023-05-06 00:20:02.664\u001b[0m | \u001b[1mINFO    \u001b[0m | \u001b[36m__main__\u001b[0m:\u001b[36mmain\u001b[0m:\u001b[36m58\u001b[0m - \u001b[1mAFTERHOURSDAILYINFOS\n",
            "<__main__.AfterHoursDailyInfo object at 0x7f57d7b3dff0>\n",
            "<__main__.AfterHoursDailyInfo object at 0x7f57d7b3f0d0>\n",
            "<__main__.AfterHoursDailyInfo object at 0x7f57d7b3f580>\n",
            "<__main__.AfterHoursDailyInfo object at 0x7f57d7b3fc40>\n",
            "<__main__.AfterHoursDailyInfo object at 0x7f57d7b3f1f0>\n",
            "<__main__.AfterHoursDailyInfo object at 0x7f57d7b3f100>\n",
            "<__main__.AfterHoursDailyInfo object at 0x7f57d7b3ee00>\n",
            "<__main__.AfterHoursDailyInfo object at 0x7f57d7b3e7d0>\n",
            "<__main__.AfterHoursDailyInfo object at 0x7f57d7b3f9d0>\n",
            "<__main__.AfterHoursDailyInfo object at 0x7f57d7b3e860>\n",
            "<__main__.AfterHoursDailyInfo object at 0x7f57d7b3ea70>\n",
            "<__main__.AfterHoursDailyInfo object at 0x7f57d7b3f520>\n",
            "<__main__.AfterHoursDailyInfo object at 0x7f57d7b3fdc0>\n",
            "<__main__.AfterHoursDailyInfo object at 0x7f57d7b3eaa0>\n",
            "<__main__.AfterHoursDailyInfo object at 0x7f57b75d3190>\n",
            "<__main__.AfterHoursDailyInfo object at 0x7f57b75d3a90>\n",
            "<__main__.AfterHoursDailyInfo object at 0x7f57b75d3ac0>\n",
            "<__main__.AfterHoursDailyInfo object at 0x7f57b75d3a60>\n",
            "<__main__.AfterHoursDailyInfo object at 0x7f57b75d3a00>\n",
            "<__main__.AfterHoursDailyInfo object at 0x7f57b75d3340>\u001b[0m\n"
          ]
        }
      ]
    },
    {
      "cell_type": "markdown",
      "source": [],
      "metadata": {
        "id": "nfF4bpn8YBbV"
      }
    }
  ]
}